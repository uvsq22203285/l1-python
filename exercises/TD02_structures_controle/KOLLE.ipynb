{
 "cells": [
  {
   "cell_type": "code",
   "execution_count": 2,
   "metadata": {},
   "outputs": [
    {
     "name": "stdout",
     "output_type": "stream",
     "text": [
      "<class 'float'>\n"
     ]
    }
   ],
   "source": [
    "print(type(5 / 8))"
   ]
  },
  {
   "cell_type": "code",
   "execution_count": 9,
   "metadata": {},
   "outputs": [
    {
     "name": "stdout",
     "output_type": "stream",
     "text": [
      "Le nombre est divisible par lui-meme\n"
     ]
    }
   ],
   "source": [
    "a = int(input(\"Un Nombre Entier\"))\n",
    "\n",
    "if a %3 == 0 and a % 5 ==0:\n",
    "    print(\"FizzBuzz\")\n",
    "elif a %3 ==0:\n",
    "    print(\"Fizz\")\n",
    "elif a %5 ==0:\n",
    "    print(\"Buzz\")\n",
    "elif a %a ==0:\n",
    "    print(\"Le nombre est divisible par lui-meme\")\n"
   ]
  },
  {
   "cell_type": "code",
   "execution_count": null,
   "metadata": {},
   "outputs": [],
   "source": [
    "b = int(input(\"Un Nombre Entier\"))\n",
    "\n",
    "for n in range():\n",
    "    if b % b \n",
    "\n"
   ]
  }
 ],
 "metadata": {
  "kernelspec": {
   "display_name": "Python 3.9.12 ('base')",
   "language": "python",
   "name": "python3"
  },
  "language_info": {
   "codemirror_mode": {
    "name": "ipython",
    "version": 3
   },
   "file_extension": ".py",
   "mimetype": "text/x-python",
   "name": "python",
   "nbconvert_exporter": "python",
   "pygments_lexer": "ipython3",
   "version": "3.9.12"
  },
  "orig_nbformat": 4,
  "vscode": {
   "interpreter": {
    "hash": "556d0b8f2d49edbbcce5645568bfdd6a747e5bdd78afe4b49813d5cd261497e6"
   }
  }
 },
 "nbformat": 4,
 "nbformat_minor": 2
}
